{
 "cells": [
  {
   "cell_type": "markdown",
   "id": "21d3587d-809c-4217-a040-75e1354c2dd0",
   "metadata": {
    "tags": []
   },
   "source": [
    "# Load the book"
   ]
  },
  {
   "cell_type": "code",
   "execution_count": 6,
   "id": "ab7b7b28-a11e-432e-aabc-23aa947693c1",
   "metadata": {
    "tags": []
   },
   "outputs": [],
   "source": [
    "with open(\"miracle_in_the_andes.txt\", \"r\", encoding='utf-8') as file:\n",
    "          book = file.read()"
   ]
  },
  {
   "cell_type": "markdown",
   "id": "8be79ffd-8a24-4b55-a384-39af5a7ad537",
   "metadata": {
    "tags": []
   },
   "source": [
    "# Extract the paragraphs where \"love\" was used"
   ]
  },
  {
   "cell_type": "code",
   "execution_count": 5,
   "id": "c5cf4640-b7f0-4968-9d99-9e9d999b7d03",
   "metadata": {
    "tags": []
   },
   "outputs": [
    {
     "data": {
      "text/plain": [
       "60"
      ]
     },
     "execution_count": 5,
     "metadata": {},
     "output_type": "execute_result"
    }
   ],
   "source": [
    "import re\n",
    "pattern = re.compile(\"[^'\\n']*love[^'\\n']*\")\n",
    "findings = re.findall(pattern, book)\n",
    "len(findings)"
   ]
  },
  {
   "cell_type": "markdown",
   "id": "8c926870-5fa6-4a5b-b157-eba501925b80",
   "metadata": {
    "tags": []
   },
   "source": [
    "# Extract the Chapter titles "
   ]
  },
  {
   "cell_type": "code",
   "execution_count": 6,
   "id": "4ab929a0-1dcf-4656-8803-1d8579c339c4",
   "metadata": {
    "tags": []
   },
   "outputs": [
    {
     "data": {
      "text/plain": [
       "['Before\\n\\n',\n",
       " 'Everything Precious\\n\\n',\n",
       " 'A Promise\\n\\n',\n",
       " 'Breathe Once More\\n\\n',\n",
       " 'Abandoned\\n\\n',\n",
       " 'Tomb\\n\\n',\n",
       " 'East\\n\\n',\n",
       " 'The Opposite of Death\\n\\n',\n",
       " 'I See a Man\\n\\n',\n",
       " 'After\\n\\n']"
      ]
     },
     "execution_count": 6,
     "metadata": {},
     "output_type": "execute_result"
    }
   ],
   "source": [
    "pattern = re.compile(\"[a-zA-z ]+\\n\\n\")\n",
    "findings = re.findall(pattern, book)\n",
    "findings"
   ]
  },
  {
   "cell_type": "markdown",
   "id": "8ef20c05-e169-4c06-80e6-a5f9dcd1e5ab",
   "metadata": {
    "tags": []
   },
   "source": [
    "# Function that finds the occurence of any word"
   ]
  },
  {
   "cell_type": "code",
   "execution_count": 17,
   "id": "2a081938-2778-415c-a98f-010639ab2e04",
   "metadata": {
    "tags": []
   },
   "outputs": [],
   "source": [
    "import re\n",
    "def get_word(word):\n",
    "    pattern = re.compile(\"[a-zA-z ]*\")\n",
    "    findings = re.findall(pattern, book.lower())\n",
    "    d = {}\n",
    "    for word in findings:\n",
    "        if word in d.keys():\n",
    "            d[word] = d[word] + 1\n",
    "        else:\n",
    "            d[word] = 1\n",
    "    try:\n",
    "        return d[word]\n",
    "    except:\n",
    "        return f\"the book does not contain the word '{word}'.\""
   ]
  },
  {
   "cell_type": "code",
   "execution_count": 22,
   "id": "b2dd9e33-f296-46c7-a02c-5d3a368e665e",
   "metadata": {
    "tags": []
   },
   "outputs": [
    {
     "data": {
      "text/plain": [
       "17777"
      ]
     },
     "execution_count": 22,
     "metadata": {},
     "output_type": "execute_result"
    }
   ],
   "source": [
    "get_word(\"love\")"
   ]
  }
 ],
 "metadata": {
  "kernelspec": {
   "display_name": "Python 3 (ipykernel)",
   "language": "python",
   "name": "python3"
  },
  "language_info": {
   "codemirror_mode": {
    "name": "ipython",
    "version": 3
   },
   "file_extension": ".py",
   "mimetype": "text/x-python",
   "name": "python",
   "nbconvert_exporter": "python",
   "pygments_lexer": "ipython3",
   "version": "3.11.1"
  }
 },
 "nbformat": 4,
 "nbformat_minor": 5
}
